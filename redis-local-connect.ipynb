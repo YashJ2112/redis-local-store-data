{
 "cells": [
  {
   "cell_type": "code",
   "execution_count": 173,
   "metadata": {},
   "outputs": [],
   "source": [
    "import datatable as dt\n",
    "import redis\n",
    "import pandas as pd\n",
    "import json\n",
    "import random\n",
    "from datetime import datetime\n",
    "from redis.commands.json.path import Path\n",
    "from redis.commands.search.indexDefinition import IndexDefinition, IndexType\n",
    "from redisearch import TextField, NumericField, TagField, Query"
   ]
  },
  {
   "attachments": {},
   "cell_type": "markdown",
   "metadata": {},
   "source": [
    "### Connect to Redis"
   ]
  },
  {
   "cell_type": "code",
   "execution_count": 2,
   "metadata": {},
   "outputs": [],
   "source": [
    "r = redis.Redis(host='localhost', port=6379, decode_responses=True)"
   ]
  },
  {
   "attachments": {},
   "cell_type": "markdown",
   "metadata": {},
   "source": [
    "### Load the data into a DataTable object"
   ]
  },
  {
   "cell_type": "code",
   "execution_count": 175,
   "metadata": {},
   "outputs": [],
   "source": [
    "data = dt.fread(\"data/my_data.csv\")"
   ]
  },
  {
   "attachments": {},
   "cell_type": "markdown",
   "metadata": {},
   "source": [
    "### Convert DataTable to a list of dictionaries"
   ]
  },
  {
   "cell_type": "code",
   "execution_count": 171,
   "metadata": {},
   "outputs": [
    {
     "data": {
      "text/html": [
       "<div>\n",
       "<style scoped>\n",
       "    .dataframe tbody tr th:only-of-type {\n",
       "        vertical-align: middle;\n",
       "    }\n",
       "\n",
       "    .dataframe tbody tr th {\n",
       "        vertical-align: top;\n",
       "    }\n",
       "\n",
       "    .dataframe thead th {\n",
       "        text-align: right;\n",
       "    }\n",
       "</style>\n",
       "<table border=\"1\" class=\"dataframe\">\n",
       "  <thead>\n",
       "    <tr style=\"text-align: right;\">\n",
       "      <th></th>\n",
       "      <th>key</th>\n",
       "      <th>company_name</th>\n",
       "      <th>cvr_no</th>\n",
       "      <th>industry_designation_primary</th>\n",
       "    </tr>\n",
       "  </thead>\n",
       "  <tbody>\n",
       "    <tr>\n",
       "      <th>0</th>\n",
       "      <td>1</td>\n",
       "      <td>Company 1</td>\n",
       "      <td>78349416</td>\n",
       "      <td>Industry 26</td>\n",
       "    </tr>\n",
       "    <tr>\n",
       "      <th>1</th>\n",
       "      <td>2</td>\n",
       "      <td>Company 2</td>\n",
       "      <td>28019879</td>\n",
       "      <td>Industry 9</td>\n",
       "    </tr>\n",
       "    <tr>\n",
       "      <th>2</th>\n",
       "      <td>3</td>\n",
       "      <td>Company 3</td>\n",
       "      <td>20305018</td>\n",
       "      <td>Industry 33</td>\n",
       "    </tr>\n",
       "    <tr>\n",
       "      <th>3</th>\n",
       "      <td>4</td>\n",
       "      <td>Company 4</td>\n",
       "      <td>36578982</td>\n",
       "      <td>Industry 33</td>\n",
       "    </tr>\n",
       "    <tr>\n",
       "      <th>4</th>\n",
       "      <td>5</td>\n",
       "      <td>Company 5</td>\n",
       "      <td>58284639</td>\n",
       "      <td>Industry 25</td>\n",
       "    </tr>\n",
       "  </tbody>\n",
       "</table>\n",
       "</div>"
      ],
      "text/plain": [
       "   key company_name    cvr_no industry_designation_primary\n",
       "0    1    Company 1  78349416                  Industry 26\n",
       "1    2    Company 2  28019879                   Industry 9\n",
       "2    3    Company 3  20305018                  Industry 33\n",
       "3    4    Company 4  36578982                  Industry 33\n",
       "4    5    Company 5  58284639                  Industry 25"
      ]
     },
     "execution_count": 171,
     "metadata": {},
     "output_type": "execute_result"
    }
   ],
   "source": [
    "df = data.to_pandas()\n",
    "\n",
    "df = df.head(100)\n",
    "\n",
    "df = df.drop(columns=['C0'])\n",
    "\n",
    "df[:5]"
   ]
  },
  {
   "cell_type": "code",
   "execution_count": null,
   "metadata": {},
   "outputs": [],
   "source": [
    "df.industry_designation_primary.tolist()"
   ]
  },
  {
   "attachments": {},
   "cell_type": "markdown",
   "metadata": {},
   "source": [
    "### Upload the data to Redis"
   ]
  },
  {
   "cell_type": "code",
   "execution_count": 12,
   "metadata": {},
   "outputs": [
    {
     "name": "stdout",
     "output_type": "stream",
     "text": [
      "Data uploaded to Redis successfully.\n"
     ]
    }
   ],
   "source": [
    "for _, row in df.iterrows():\n",
    "    row_id = row['key']  # Assuming 'key' column contains the unique identifier\n",
    "    row_dict = row.drop('key').to_dict()\n",
    "    \n",
    "    # Convert Timestamp values to string\n",
    "    for key, value in row_dict.items():\n",
    "        if isinstance(value, pd.Timestamp):\n",
    "            row_dict[key] = value.strftime('%Y-%m-%d %H:%M:%S')\n",
    "    \n",
    "    r.hset(row_id, mapping=row_dict)\n",
    "\n",
    "print(\"Data uploaded to Redis successfully.\")"
   ]
  },
  {
   "attachments": {},
   "cell_type": "markdown",
   "metadata": {},
   "source": [
    "### Test the data retrieval from Redis"
   ]
  },
  {
   "cell_type": "code",
   "execution_count": null,
   "metadata": {},
   "outputs": [],
   "source": [
    "# Test the data retrieval from Redis\n",
    "keys = r.keys(\"*\")\n",
    "for key in keys:\n",
    "    values = r.hgetall(key)\n",
    "    print(f\"Key: {key}, Values: {values}\")"
   ]
  },
  {
   "cell_type": "code",
   "execution_count": 153,
   "metadata": {},
   "outputs": [
    {
     "data": {
      "text/html": [
       "<div>\n",
       "<style scoped>\n",
       "    .dataframe tbody tr th:only-of-type {\n",
       "        vertical-align: middle;\n",
       "    }\n",
       "\n",
       "    .dataframe tbody tr th {\n",
       "        vertical-align: top;\n",
       "    }\n",
       "\n",
       "    .dataframe thead th {\n",
       "        text-align: right;\n",
       "    }\n",
       "</style>\n",
       "<table border=\"1\" class=\"dataframe\">\n",
       "  <thead>\n",
       "    <tr style=\"text-align: right;\">\n",
       "      <th></th>\n",
       "      <th>key</th>\n",
       "      <th>cvr_no</th>\n",
       "      <th>company_name</th>\n",
       "      <th>industry_designation_primary</th>\n",
       "    </tr>\n",
       "  </thead>\n",
       "  <tbody>\n",
       "    <tr>\n",
       "      <th>0</th>\n",
       "      <td>2</td>\n",
       "      <td>41201134</td>\n",
       "      <td>GRASS DK ApS</td>\n",
       "      <td>Engroshandel med kemiske produkter</td>\n",
       "    </tr>\n",
       "    <tr>\n",
       "      <th>1</th>\n",
       "      <td>3</td>\n",
       "      <td>40317430</td>\n",
       "      <td>Bomholt Malerfirma ApS</td>\n",
       "      <td>Malerforretninger</td>\n",
       "    </tr>\n",
       "    <tr>\n",
       "      <th>2</th>\n",
       "      <td>4</td>\n",
       "      <td>33047754</td>\n",
       "      <td>BO ANDERSEN HOLDING, SVENSTRUP ApS</td>\n",
       "      <td>Ikke-finansielle holdingselskaber</td>\n",
       "    </tr>\n",
       "    <tr>\n",
       "      <th>3</th>\n",
       "      <td>5</td>\n",
       "      <td>41026162</td>\n",
       "      <td>Fyenbo Holding ApS</td>\n",
       "      <td>Ikke-finansielle holdingselskaber</td>\n",
       "    </tr>\n",
       "    <tr>\n",
       "      <th>4</th>\n",
       "      <td>7</td>\n",
       "      <td>37537535</td>\n",
       "      <td>Kjeld Johannesen Holding ApS</td>\n",
       "      <td>Ikke-finansielle holdingselskaber</td>\n",
       "    </tr>\n",
       "  </tbody>\n",
       "</table>\n",
       "</div>"
      ],
      "text/plain": [
       "   key    cvr_no                        company_name  \\\n",
       "0    2  41201134                        GRASS DK ApS   \n",
       "1    3  40317430              Bomholt Malerfirma ApS   \n",
       "2    4  33047754  BO ANDERSEN HOLDING, SVENSTRUP ApS   \n",
       "3    5  41026162                  Fyenbo Holding ApS   \n",
       "4    7  37537535        Kjeld Johannesen Holding ApS   \n",
       "\n",
       "         industry_designation_primary  \n",
       "0  Engroshandel med kemiske produkter  \n",
       "1                   Malerforretninger  \n",
       "2   Ikke-finansielle holdingselskaber  \n",
       "3   Ikke-finansielle holdingselskaber  \n",
       "4   Ikke-finansielle holdingselskaber  "
      ]
     },
     "execution_count": 153,
     "metadata": {},
     "output_type": "execute_result"
    }
   ],
   "source": [
    "# df.head()\n",
    "df = df[[\"key\",\"cvr_no\", \"company_name\",\"industry_designation_primary\"]]\n",
    "df.head()"
   ]
  },
  {
   "cell_type": "code",
   "execution_count": 154,
   "metadata": {},
   "outputs": [
    {
     "data": {
      "text/html": [
       "<div>\n",
       "<style scoped>\n",
       "    .dataframe tbody tr th:only-of-type {\n",
       "        vertical-align: middle;\n",
       "    }\n",
       "\n",
       "    .dataframe tbody tr th {\n",
       "        vertical-align: top;\n",
       "    }\n",
       "\n",
       "    .dataframe thead th {\n",
       "        text-align: right;\n",
       "    }\n",
       "</style>\n",
       "<table border=\"1\" class=\"dataframe\">\n",
       "  <thead>\n",
       "    <tr style=\"text-align: right;\">\n",
       "      <th></th>\n",
       "      <th>key</th>\n",
       "      <th>cvr_no</th>\n",
       "      <th>company_name</th>\n",
       "      <th>industry_designation_primary</th>\n",
       "    </tr>\n",
       "  </thead>\n",
       "  <tbody>\n",
       "    <tr>\n",
       "      <th>0</th>\n",
       "      <td>2</td>\n",
       "      <td>41201134</td>\n",
       "      <td>GRASS DK ApS</td>\n",
       "      <td>Engroshandel med kemiske produkter</td>\n",
       "    </tr>\n",
       "    <tr>\n",
       "      <th>1</th>\n",
       "      <td>3</td>\n",
       "      <td>40317430</td>\n",
       "      <td>Bomholt Malerfirma ApS</td>\n",
       "      <td>Malerforretninger</td>\n",
       "    </tr>\n",
       "    <tr>\n",
       "      <th>2</th>\n",
       "      <td>4</td>\n",
       "      <td>33047754</td>\n",
       "      <td>BO ANDERSEN HOLDING, SVENSTRUP ApS</td>\n",
       "      <td>Ikke-finansielle holdingselskaber</td>\n",
       "    </tr>\n",
       "    <tr>\n",
       "      <th>3</th>\n",
       "      <td>5</td>\n",
       "      <td>41026162</td>\n",
       "      <td>Fyenbo Holding ApS</td>\n",
       "      <td>Ikke-finansielle holdingselskaber</td>\n",
       "    </tr>\n",
       "    <tr>\n",
       "      <th>4</th>\n",
       "      <td>7</td>\n",
       "      <td>37537535</td>\n",
       "      <td>Kjeld Johannesen Holding ApS</td>\n",
       "      <td>Ikke-finansielle holdingselskaber</td>\n",
       "    </tr>\n",
       "  </tbody>\n",
       "</table>\n",
       "</div>"
      ],
      "text/plain": [
       "  key    cvr_no                        company_name  \\\n",
       "0   2  41201134                        GRASS DK ApS   \n",
       "1   3  40317430              Bomholt Malerfirma ApS   \n",
       "2   4  33047754  BO ANDERSEN HOLDING, SVENSTRUP ApS   \n",
       "3   5  41026162                  Fyenbo Holding ApS   \n",
       "4   7  37537535        Kjeld Johannesen Holding ApS   \n",
       "\n",
       "         industry_designation_primary  \n",
       "0  Engroshandel med kemiske produkter  \n",
       "1                   Malerforretninger  \n",
       "2   Ikke-finansielle holdingselskaber  \n",
       "3   Ikke-finansielle holdingselskaber  \n",
       "4   Ikke-finansielle holdingselskaber  "
      ]
     },
     "execution_count": 154,
     "metadata": {},
     "output_type": "execute_result"
    }
   ],
   "source": [
    "trans_key = df['key'].astype('str')\n",
    "df['key'] = trans_key\n",
    "df.head()"
   ]
  },
  {
   "cell_type": "code",
   "execution_count": 107,
   "metadata": {},
   "outputs": [
    {
     "name": "stdout",
     "output_type": "stream",
     "text": [
      "<class 'pandas.core.frame.DataFrame'>\n",
      "RangeIndex: 100 entries, 0 to 99\n",
      "Data columns (total 4 columns):\n",
      " #   Column                        Non-Null Count  Dtype \n",
      "---  ------                        --------------  ----- \n",
      " 0   key                           100 non-null    object\n",
      " 1   cvr_no                        100 non-null    int32 \n",
      " 2   company_name                  100 non-null    object\n",
      " 3   industry_designation_primary  100 non-null    object\n",
      "dtypes: int32(1), object(3)\n",
      "memory usage: 2.9+ KB\n"
     ]
    }
   ],
   "source": [
    "df.info()"
   ]
  },
  {
   "attachments": {},
   "cell_type": "markdown",
   "metadata": {},
   "source": [
    "### Define a schema"
   ]
  },
  {
   "cell_type": "code",
   "execution_count": 128,
   "metadata": {},
   "outputs": [],
   "source": [
    "schema = (\n",
    "    TextField(\"$.key\", as_name=\"key\"),\n",
    "    NumericField(\"$.cvr_no\", as_name=\"cvr_no\"),\n",
    "    TextField(\"$.company_name\", as_name=\"company_name\"),\n",
    "    TextField(\"$.industry_designation_primary\", as_name=\"industry_designation_primary\")\n",
    ")"
   ]
  },
  {
   "attachments": {},
   "cell_type": "markdown",
   "metadata": {},
   "source": [
    "### Set index name"
   ]
  },
  {
   "cell_type": "code",
   "execution_count": 129,
   "metadata": {},
   "outputs": [],
   "source": [
    "index_name = \"idx:cleaned_data\""
   ]
  },
  {
   "attachments": {},
   "cell_type": "markdown",
   "metadata": {},
   "source": [
    "### Create an index"
   ]
  },
  {
   "cell_type": "code",
   "execution_count": 130,
   "metadata": {},
   "outputs": [
    {
     "data": {
      "text/plain": [
       "'OK'"
      ]
     },
     "execution_count": 130,
     "metadata": {},
     "output_type": "execute_result"
    }
   ],
   "source": [
    "rs = r.ft(index_name)\n",
    "rs.create_index(\n",
    "    schema,\n",
    "    definition=IndexDefinition(\n",
    "        prefix=[\"cleaned_data:\"], index_type=IndexType.JSON\n",
    "    )\n",
    ")"
   ]
  },
  {
   "attachments": {},
   "cell_type": "markdown",
   "metadata": {},
   "source": [
    "### Upload data to Redis and index it"
   ]
  },
  {
   "cell_type": "code",
   "execution_count": 131,
   "metadata": {},
   "outputs": [
    {
     "name": "stdout",
     "output_type": "stream",
     "text": [
      "Data stored and indexed successfully.\n"
     ]
    }
   ],
   "source": [
    "for _, row in df.iterrows():\n",
    "    row_id = row['key']\n",
    "    row_dict = row.drop('key').to_dict()\n",
    "\n",
    "    r.json().set(f\"cleaned_data:{row_id}\", Path.root_path(), row_dict)\n",
    "    \n",
    "print(\"Data stored and indexed successfully.\")"
   ]
  },
  {
   "attachments": {},
   "cell_type": "markdown",
   "metadata": {},
   "source": [
    "### Perform a search query"
   ]
  },
  {
   "cell_type": "code",
   "execution_count": 143,
   "metadata": {},
   "outputs": [
    {
     "name": "stdout",
     "output_type": "stream",
     "text": [
      "{'cvr_no': 41201134, 'company_name': 'GRASS DK ApS', 'industry_designation_primary': 'Engroshandel med kemiske produkter'}\n"
     ]
    }
   ],
   "source": [
    "result = r.json().get('cleaned_data:2')\n",
    "print(result)"
   ]
  },
  {
   "attachments": {},
   "cell_type": "markdown",
   "metadata": {},
   "source": [
    "### Generate dummy data"
   ]
  },
  {
   "cell_type": "code",
   "execution_count": 169,
   "metadata": {},
   "outputs": [],
   "source": [
    "# Define the number of dummy rows to generate\n",
    "num_rows = 100\n",
    "\n",
    "# Create a list of random values for each column\n",
    "keys = range(1, num_rows+1)\n",
    "company_names = [f\"Company {i}\" for i in range(1, num_rows+1)]\n",
    "cvr_nos = random.sample(range(10000000, 99999999), num_rows)\n",
    "industry_designations = [f\"Industry {random.randint(1, 36)}\" for _ in range(num_rows)]\n",
    "\n",
    "# Create a DataFrame from the generated data\n",
    "df = pd.DataFrame({\n",
    "    'key': keys,\n",
    "    'company_name': company_names,\n",
    "    'cvr_no': cvr_nos,\n",
    "    'industry_designation_primary': industry_designations\n",
    "})\n",
    "\n",
    "# Display the generated dummy data\n",
    "df\n",
    "\n",
    "# Save the DataFrame as a CSV file\n",
    "df.to_csv('data/my_data.csv')\n"
   ]
  }
 ],
 "metadata": {
  "kernelspec": {
   "display_name": "venv",
   "language": "python",
   "name": "python3"
  },
  "language_info": {
   "codemirror_mode": {
    "name": "ipython",
    "version": 3
   },
   "file_extension": ".py",
   "mimetype": "text/x-python",
   "name": "python",
   "nbconvert_exporter": "python",
   "pygments_lexer": "ipython3",
   "version": "3.9.1"
  },
  "orig_nbformat": 4
 },
 "nbformat": 4,
 "nbformat_minor": 2
}
